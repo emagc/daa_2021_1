{
  "nbformat": 4,
  "nbformat_minor": 0,
  "metadata": {
    "colab": {
      "name": "Tarea5.ipynb",
      "provenance": [],
      "collapsed_sections": [],
      "authorship_tag": "ABX9TyOUKUPAS7DRczf4sLMpy8hC",
      "include_colab_link": true
    },
    "kernelspec": {
      "name": "python3",
      "display_name": "Python 3"
    }
  },
  "cells": [
    {
      "cell_type": "markdown",
      "metadata": {
        "id": "view-in-github",
        "colab_type": "text"
      },
      "source": [
        "<a href=\"https://colab.research.google.com/github/emagc/daa_2021_1/blob/master/Tarea5.ipynb\" target=\"_parent\"><img src=\"https://colab.research.google.com/assets/colab-badge.svg\" alt=\"Open In Colab\"/></a>"
      ]
    },
    {
      "cell_type": "code",
      "metadata": {
        "id": "COVB2PnbHdOW",
        "outputId": "b40f204e-2404-4788-c96d-afaf1a37911c",
        "colab": {
          "base_uri": "https://localhost:8080/",
          "height": 357
        }
      },
      "source": [
        "from time import time\n",
        "\n",
        "def ejemplo1( n ):\n",
        "    start_time=time()\n",
        "    c = n + 1\n",
        "    d = c * n\n",
        "    e = n * n\n",
        "    total = c + e - d\n",
        "    print(f\"total={ total }\")\n",
        "    print(f\"tiempo: {time()-start_time}\")\n",
        "for entrada in range(100,1001,100):\n",
        "  ejemplo1( entrada )"
      ],
      "execution_count": 14,
      "outputs": [
        {
          "output_type": "stream",
          "text": [
            "total=1\n",
            "tiempo: 6.4849853515625e-05\n",
            "total=1\n",
            "tiempo: 1.7642974853515625e-05\n",
            "total=1\n",
            "tiempo: 5.054473876953125e-05\n",
            "total=1\n",
            "tiempo: 3.266334533691406e-05\n",
            "total=1\n",
            "tiempo: 1.33514404296875e-05\n",
            "total=1\n",
            "tiempo: 1.3589859008789062e-05\n",
            "total=1\n",
            "tiempo: 0.00032830238342285156\n",
            "total=1\n",
            "tiempo: 2.3603439331054688e-05\n",
            "total=1\n",
            "tiempo: 1.71661376953125e-05\n",
            "total=1\n",
            "tiempo: 2.3603439331054688e-05\n"
          ],
          "name": "stdout"
        }
      ]
    },
    {
      "cell_type": "code",
      "metadata": {
        "id": "jK34S7p_F5k6",
        "outputId": "76e836da-85dd-4a13-df7b-9f8f3207452a",
        "colab": {
          "base_uri": "https://localhost:8080/",
          "height": 187
        }
      },
      "source": [
        "from time import time\n",
        "\n",
        "def ejemplo2( n ):\n",
        "    start_time=time()\n",
        "    contador = 0\n",
        "    for i in range( n ) :\n",
        "        for j in range( n ) :\n",
        "            contador += 1\n",
        "    print(f\"tempo: {time()-start_time}\")\n",
        "    return contador\n",
        "\n",
        "for entrada in range(100,1001,100):\n",
        "  ejemplo2( entrada )"
      ],
      "execution_count": 12,
      "outputs": [
        {
          "output_type": "stream",
          "text": [
            "tempo: 0.0004565715789794922\n",
            "tempo: 0.001988649368286133\n",
            "tempo: 0.0041654109954833984\n",
            "tempo: 0.007849693298339844\n",
            "tempo: 0.013794898986816406\n",
            "tempo: 0.02431344985961914\n",
            "tempo: 0.026282548904418945\n",
            "tempo: 0.03368425369262695\n",
            "tempo: 0.0422060489654541\n",
            "tempo: 0.0520782470703125\n"
          ],
          "name": "stdout"
        }
      ]
    },
    {
      "cell_type": "code",
      "metadata": {
        "id": "0odUJaT1HwtU",
        "outputId": "29b9a195-8cc2-42af-beb3-958f50b4e1cd",
        "colab": {
          "base_uri": "https://localhost:8080/",
          "height": 187
        }
      },
      "source": [
        "from time import time\n",
        "\n",
        "def ejemplo3( n ): # n=4\n",
        "    start_time=time()\n",
        "    x = n * 2 # x = 8\n",
        "    y = 0   # y = 0\n",
        "    for m in range( 100 ): #3\n",
        "        y = x - n   # y = 4\n",
        "    print(f\"tiempo: {time()-start_time}\")\n",
        "    return y\n",
        "\n",
        "for entrada in range(100,1001,100):\n",
        "  ejemplo3(entrada)"
      ],
      "execution_count": 13,
      "outputs": [
        {
          "output_type": "stream",
          "text": [
            "tiempo: 4.76837158203125e-06\n",
            "tiempo: 7.867813110351562e-06\n",
            "tiempo: 9.059906005859375e-06\n",
            "tiempo: 8.821487426757812e-06\n",
            "tiempo: 8.344650268554688e-06\n",
            "tiempo: 2.765655517578125e-05\n",
            "tiempo: 8.344650268554688e-06\n",
            "tiempo: 8.106231689453125e-06\n",
            "tiempo: 7.62939453125e-06\n",
            "tiempo: 7.152557373046875e-06\n"
          ],
          "name": "stdout"
        }
      ]
    },
    {
      "cell_type": "code",
      "metadata": {
        "id": "RbDYE4wwIAPN",
        "outputId": "93d896c2-4163-4466-8f30-5a04a5aa60aa",
        "colab": {
          "base_uri": "https://localhost:8080/",
          "height": 187
        }
      },
      "source": [
        "from time import time\n",
        "\n",
        "def ejemplo4( n ):\n",
        "    start_time=time()\n",
        "    x = 3 * 3.1416 + n\n",
        "    y = x + 3 * 3 - n\n",
        "    z = x + y\n",
        "    print(f\"tiempo: {time()-start_time}\")\n",
        "    return z\n",
        "\n",
        "for entrada in range(100,1001,100):\n",
        "  ejemplo4(entrada)"
      ],
      "execution_count": 15,
      "outputs": [
        {
          "output_type": "stream",
          "text": [
            "tiempo: 1.1920928955078125e-06\n",
            "tiempo: 7.152557373046875e-07\n",
            "tiempo: 9.5367431640625e-07\n",
            "tiempo: 4.76837158203125e-07\n",
            "tiempo: 2.384185791015625e-07\n",
            "tiempo: 2.384185791015625e-07\n",
            "tiempo: 4.76837158203125e-07\n",
            "tiempo: 4.76837158203125e-07\n",
            "tiempo: 4.76837158203125e-07\n",
            "tiempo: 4.76837158203125e-07\n"
          ],
          "name": "stdout"
        }
      ]
    },
    {
      "cell_type": "code",
      "metadata": {
        "id": "l7dPw0okIDEE",
        "outputId": "22b1dbe7-6a7f-4ede-c54f-f8656643899d",
        "colab": {
          "base_uri": "https://localhost:8080/",
          "height": 187
        }
      },
      "source": [
        "from time import time\n",
        "\n",
        "def ejemplo5( x ):\n",
        "    start_time=time()\n",
        "    n = 10\n",
        "    for j in range( 0 , x , 1 ):\n",
        "        n = j + n\n",
        "    print(f\"tiempo: {time()-start_time}\")\n",
        "    return n\n",
        "\n",
        "for entrada in range(100,1001,100):\n",
        "  ejemplo5(entrada)"
      ],
      "execution_count": 16,
      "outputs": [
        {
          "output_type": "stream",
          "text": [
            "tiempo: 9.5367431640625e-06\n",
            "tiempo: 1.7642974853515625e-05\n",
            "tiempo: 2.5510787963867188e-05\n",
            "tiempo: 3.4332275390625e-05\n",
            "tiempo: 3.9577484130859375e-05\n",
            "tiempo: 4.8160552978515625e-05\n",
            "tiempo: 5.745887756347656e-05\n",
            "tiempo: 6.29425048828125e-05\n",
            "tiempo: 7.414817810058594e-05\n",
            "tiempo: 9.512901306152344e-05\n"
          ],
          "name": "stdout"
        }
      ]
    },
    {
      "cell_type": "code",
      "metadata": {
        "id": "_TreAiiqIGuZ",
        "outputId": "6934269f-f5f0-454b-8dec-eef61def1e8a",
        "colab": {
          "base_uri": "https://localhost:8080/",
          "height": 119
        }
      },
      "source": [
        "from time import time\n",
        "\n",
        "def ejemplo6( n ):\n",
        "    start_time = time()\n",
        "    data=[[[1 for x in range(n)] for x in range(n)] \n",
        "          for x in range(n)]\n",
        "    suma = 0\n",
        "    for d in range(n):\n",
        "        for r in range(n):\n",
        "            for c in range(n):\n",
        "                suma += data[d][r][c]\n",
        "    elapsed_time = time() - start_time\n",
        "    print(\"Tiempo transcurrido: %0.10f segundos.\" % elapsed_time)\n",
        "    return suma\n",
        "\n",
        "for entrada in range(100,601,100):\n",
        "  ejemplo6( entrada )"
      ],
      "execution_count": 17,
      "outputs": [
        {
          "output_type": "stream",
          "text": [
            "Tiempo transcurrido: 0.1838009357 segundos.\n",
            "Tiempo transcurrido: 0.9966046810 segundos.\n",
            "Tiempo transcurrido: 3.5224337578 segundos.\n",
            "Tiempo transcurrido: 9.2204020023 segundos.\n",
            "Tiempo transcurrido: 17.3627035618 segundos.\n",
            "Tiempo transcurrido: 31.3487884998 segundos.\n"
          ],
          "name": "stdout"
        }
      ]
    }
  ]
}