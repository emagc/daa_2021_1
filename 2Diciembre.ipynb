{
  "nbformat": 4,
  "nbformat_minor": 0,
  "metadata": {
    "colab": {
      "name": "2Diciembre.ipynb",
      "provenance": [],
      "authorship_tag": "ABX9TyN08GLBMNA9ZQd4VDdyrgU5",
      "include_colab_link": true
    },
    "kernelspec": {
      "name": "python3",
      "display_name": "Python 3"
    }
  },
  "cells": [
    {
      "cell_type": "markdown",
      "metadata": {
        "id": "view-in-github",
        "colab_type": "text"
      },
      "source": [
        "<a href=\"https://colab.research.google.com/github/emagc/daa_2021_1/blob/master/2Diciembre.ipynb\" target=\"_parent\"><img src=\"https://colab.research.google.com/assets/colab-badge.svg\" alt=\"Open In Colab\"/></a>"
      ]
    },
    {
      "cell_type": "code",
      "metadata": {
        "id": "WPPZsD4SOeQf"
      },
      "source": [
        "nfRecInfinita()\n",
        "def fnRec( x ):\n",
        "    if x == 0:\n",
        "        print(\"Stop\")\n",
        "    else :\n",
        "        fnRec( x -1 )\n",
        "        print( x )\n",
        "\n",
        "def main():\n",
        "    print(\"Inicio del programa\")\n",
        "    fnRec(5)\n",
        "    print(\"Fin del programa\")\n",
        "\n",
        "main()\n",
        "def printRev(x):\n",
        "  if x>0:\n",
        "    print(x)\n",
        "    printRev(x- 1)\n",
        "printRev(3)\n",
        "def fibonacci(n):\n",
        "    if n == 1 or n == 0:\n",
        "      return n\n",
        "    else :\n",
        "      return (fibonacci(n-1) + fibonacci(n-2) )\n",
        "\n",
        "print(fibonacci(8))"
      ],
      "execution_count": 1,
      "outputs": []
    }
  ]
}