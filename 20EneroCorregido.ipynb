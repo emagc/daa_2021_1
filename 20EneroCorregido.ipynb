{
  "nbformat": 4,
  "nbformat_minor": 0,
  "metadata": {
    "colab": {
      "name": "20EneroCorregido.ipynb",
      "provenance": [],
      "collapsed_sections": [],
      "authorship_tag": "ABX9TyNLbq1BeMbjWK4QEnAC4xXH",
      "include_colab_link": true
    },
    "kernelspec": {
      "name": "python3",
      "display_name": "Python 3"
    }
  },
  "cells": [
    {
      "cell_type": "markdown",
      "metadata": {
        "id": "view-in-github",
        "colab_type": "text"
      },
      "source": [
        "<a href=\"https://colab.research.google.com/github/emagc/daa_2021_1/blob/master/20EneroCorregido.ipynb\" target=\"_parent\"><img src=\"https://colab.research.google.com/assets/colab-badge.svg\" alt=\"Open In Colab\"/></a>"
      ]
    },
    {
      "cell_type": "code",
      "metadata": {
        "id": "01C5lpEww7Vg"
      },
      "source": [
        "class NodoArbol:\r\n",
        "  def __init__(self, value, left=None, right=None):\r\n",
        "    self.data=value\r\n",
        "    self.left=left\r\n",
        "    self.right=right"
      ],
      "execution_count": 1,
      "outputs": []
    },
    {
      "cell_type": "code",
      "metadata": {
        "id": "F0daVuIFxBLZ"
      },
      "source": [
        "class BinarySearchTree:\r\n",
        "  def __init__(self):\r\n",
        "    self._root=None\r\n",
        "\r\n",
        "  def insert(self, value):\r\n",
        "    if self._root==None:\r\n",
        "      self._root=NodoArbol(value)\r\n",
        "    else:\r\n",
        "      self._insert_nodo_(self._root, value)\r\n",
        "\r\n",
        "  def _insert_nodo_(self, nodo, value):\r\n",
        "    if nodo.data==value:\r\n",
        "      pass\r\n",
        "    elif value<nodo.data: # true va a la IZQ \r\n",
        "      if nodo.left==None:# si hay espacio en la izq, ahi va\r\n",
        "        nodo.left=NodoArbol(value)# insertamos en sub\r\n",
        "      else:\r\n",
        "        self._insert_nodo_(nodo.left,value) # buscar en sub\r\n",
        "    else: # ir a la derecha \r\n",
        "      if nodo.right==None:\r\n",
        "        nodo.right=NodoArbol(value)\r\n",
        "      else:\r\n",
        "        self._insert_nodo_(nodo.right,value) #buscar en sub\r\n",
        "\r\n",
        "  def buscar(self, value):\r\n",
        "    if self._root==None:\r\n",
        "      return None\r\n",
        "    else:\r\n",
        "      # haremos busqueda recursiva\r\n",
        "      return self.__busca_nodo(self._root,value)\r\n",
        "\r\n",
        "  def __busca_nodo(self, nodo, value):\r\n",
        "    if nodo==None:\r\n",
        "      return None\r\n",
        "    elif nodo.data==value:\r\n",
        "      return nodo\r\n",
        "    elif value<nodo.data:\r\n",
        "      return self.__busca_nodo(nodo.left,value)\r\n",
        "    else:\r\n",
        "      return self.__busca_nodo(nodo.right,value)\r\n",
        "\r\n",
        "  def transversal(self, format=\"inorden\"):\r\n",
        "    if format==\"inorden\":\r\n",
        "      self.__recorrido_in(self._root)\r\n",
        "    elif format==\"preorden\":\r\n",
        "      self.__recorrido_pre(self._root)\r\n",
        "    elif format==\"posorden\":\r\n",
        "      self.__recorrido_pos(self._root)\r\n",
        "    else:\r\n",
        "      print(\"Formato de recorrido no valido\") \r\n",
        "\r\n",
        "  def __recorrido_pre(self, nodo):\r\n",
        "    if nodo!=None:\r\n",
        "      print(nodo.data,end=\",\")\r\n",
        "      self.__recorrido_pre(nodo.left)\r\n",
        "      self.__recorrido_pre(nodo.right)\r\n",
        "  \r\n",
        "  def __recorrido_in(self, nodo):\r\n",
        "    if nodo!=None:\r\n",
        "      self.__recorrido_in(nodo.left)\r\n",
        "      print(nodo.data,end=\",\")\r\n",
        "      self.__recorrido_in(nodo.right)\r\n",
        "  \r\n",
        "  def __recorrido_pos(self, nodo):\r\n",
        "    if nodo!=None:\r\n",
        "      self.__recorrido_pos(nodo.left)\r\n",
        "      self.__recorrido_pos(nodo.right)\r\n",
        "      print(nodo.data,end=\",\")"
      ],
      "execution_count": 2,
      "outputs": []
    },
    {
      "cell_type": "code",
      "metadata": {
        "colab": {
          "base_uri": "https://localhost:8080/"
        },
        "id": "YlVy_kuNxFB8",
        "outputId": "0fe956af-4dd4-4be7-dc5e-9121268f9fa6"
      },
      "source": [
        "bst=BinarySearchTree()\r\n",
        "bst.insert(50)\r\n",
        "bst.insert(30)\r\n",
        "bst.insert(20)\r\n",
        "res = bst.buscar(30) #true o false ?\r\n",
        "print(\"dato : \", res.data)\r\n",
        "print(bst.buscar(40))\r\n",
        "print(\"recorrido pre: \")\r\n",
        "bst.transversal(format=\"preorden\")\r\n",
        "print(\"recorrido in: \")\r\n",
        "bst.transversal(format=\"inorden\")\r\n",
        "print(\"recorrido iposn: \")\r\n",
        "bst.transversal(format=\"posorden\")"
      ],
      "execution_count": 3,
      "outputs": [
        {
          "output_type": "stream",
          "text": [
            "dato :  30\n",
            "None\n",
            "recorrido pre: \n",
            "50,30,20,recorrido in: \n",
            "20,30,50,recorrido iposn: \n",
            "20,30,50,"
          ],
          "name": "stdout"
        }
      ]
    }
  ]
}