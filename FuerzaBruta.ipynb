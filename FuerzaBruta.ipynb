{
  "nbformat": 4,
  "nbformat_minor": 0,
  "metadata": {
    "colab": {
      "name": "FuerzaBruta.ipynb",
      "provenance": [],
      "authorship_tag": "ABX9TyNlswcEcWdyIOPKpw5kjNKc",
      "include_colab_link": true
    },
    "kernelspec": {
      "name": "python3",
      "display_name": "Python 3"
    }
  },
  "cells": [
    {
      "cell_type": "markdown",
      "metadata": {
        "id": "view-in-github",
        "colab_type": "text"
      },
      "source": [
        "<a href=\"https://colab.research.google.com/github/emagc/daa_2021_1/blob/master/FuerzaBruta.ipynb\" target=\"_parent\"><img src=\"https://colab.research.google.com/assets/colab-badge.svg\" alt=\"Open In Colab\"/></a>"
      ]
    },
    {
      "cell_type": "code",
      "metadata": {
        "colab": {
          "base_uri": "https://localhost:8080/"
        },
        "id": "9nDgaFlpVJuO",
        "outputId": "4a522e1d-5f06-4220-e860-26c580cc63f7"
      },
      "source": [
        "c=\"El lema que anima a la Universidad Nacional, Por mi raza hablará el espíritu, revela la vocación humanística con la que fue concebida. El autor de esta célebre frase, José Vasconcelos, asumió la rectoría en 1920, en una época en que las esperanzas de la Revolución aún estaban vivas, había una gran fe en la Patria y el ánimo redentor se extendía en el ambiente.\"\n",
        "c=c.lower()\n",
        "parrafo=\"\"\n",
        "\n",
        "for i in c:\n",
        "  if i==\"á\":\n",
        "    parrafo+=\"a\"\n",
        "  elif i==\"é\":\n",
        "    parrafo+=\"e\"\n",
        "  elif i==\"í\":\n",
        "    parrafo+=\"i\"\n",
        "  elif i==\"ó\":\n",
        "    parrafo+=\"o\"\n",
        "  elif i==\"ú\":\n",
        "    parrafo+=\"u\"\n",
        "  elif i.isalnum() or i==\" \":\n",
        "    parrafo+=i\n",
        "\n",
        "indice=0\n",
        "x=parrafo.split(\" \")\n",
        "repetidas=[]\n",
        "for i in x:\n",
        "  indice=0\n",
        "  if repetidas.count(i)==0:\n",
        "    for j in x:\n",
        "      if i == j:\n",
        "        indice+=1\n",
        "    repetidas.append(i)\n",
        "    print(i,indice)"
      ],
      "execution_count": 1,
      "outputs": [
        {
          "output_type": "stream",
          "text": [
            "el 5\n",
            "lema 1\n",
            "que 3\n",
            "anima 1\n",
            "a 1\n",
            "la 6\n",
            "universidad 1\n",
            "nacional 1\n",
            "por 1\n",
            "mi 1\n",
            "raza 1\n",
            "hablara 1\n",
            "espiritu 1\n",
            "revela 1\n",
            "vocacion 1\n",
            "humanistica 1\n",
            "con 1\n",
            "fue 1\n",
            "concebida 1\n",
            "autor 1\n",
            "de 2\n",
            "esta 1\n",
            "celebre 1\n",
            "frase 1\n",
            "jose 1\n",
            "vasconcelos 1\n",
            "asumio 1\n",
            "rectoria 1\n",
            "en 5\n",
            "1920 1\n",
            "una 2\n",
            "epoca 1\n",
            "las 1\n",
            "esperanzas 1\n",
            "revolucion 1\n",
            "aun 1\n",
            "estaban 1\n",
            "vivas 1\n",
            "habia 1\n",
            "gran 1\n",
            "fe 1\n",
            "patria 1\n",
            "y 1\n",
            "animo 1\n",
            "redentor 1\n",
            "se 1\n",
            "extendia 1\n",
            "ambiente 1\n"
          ],
          "name": "stdout"
        }
      ]
    }
  ]
}