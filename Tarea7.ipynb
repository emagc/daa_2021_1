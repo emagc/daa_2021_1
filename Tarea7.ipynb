{
  "nbformat": 4,
  "nbformat_minor": 0,
  "metadata": {
    "colab": {
      "name": "Tarea7.ipynb",
      "provenance": [],
      "authorship_tag": "ABX9TyNyLK8cihWVjDnpwIm6+d1B",
      "include_colab_link": true
    },
    "kernelspec": {
      "name": "python3",
      "display_name": "Python 3"
    }
  },
  "cells": [
    {
      "cell_type": "markdown",
      "metadata": {
        "id": "view-in-github",
        "colab_type": "text"
      },
      "source": [
        "<a href=\"https://colab.research.google.com/github/emagc/daa_2021_1/blob/master/Tarea7.ipynb\" target=\"_parent\"><img src=\"https://colab.research.google.com/assets/colab-badge.svg\" alt=\"Open In Colab\"/></a>"
      ]
    },
    {
      "cell_type": "code",
      "metadata": {
        "id": "Qiu2gVizrr0r"
      },
      "source": [
        "#1. Crear una lista de enteros en Python y realizar la suma con recursividad, el caso base es cuando la lista este vacía.\n",
        "\n",
        "x=[0, 1, 2, 3, 4, 5, 6, 7, 8, 9, 10]\n",
        "\n",
        "def suma(x,i,s):\n",
        "    \n",
        "    if i<len(x):\n",
        "        s = s + x[ i ]\n",
        "        suma(x,i+1,s)\n",
        "    if i == len( x )-1:\n",
        "        print(s)\n",
        "\n",
        "suma(x,0,0)"
      ],
      "execution_count": null,
      "outputs": []
    },
    {
      "cell_type": "code",
      "metadata": {
        "id": "vu7DIm6UrxAZ"
      },
      "source": [
        "# 2. Hacer un contador regresivo con recursión.\n",
        "\n",
        "def contador( i ):\n",
        "    if i > 0:\n",
        "        print( i )\n",
        "        contador(   i - 1 )\n",
        "n= 20\n",
        "print(\"N= \", n)\n",
        "\n",
        "contador( 20 )"
      ],
      "execution_count": null,
      "outputs": []
    },
    {
      "cell_type": "code",
      "metadata": {
        "id": "Zx28D8Cpr3Bk"
      },
      "source": [
        "#3. Sacar de un ADT pila el valor en la posición media\n",
        "\n",
        "class Stack:\n",
        "  def _init_(self):\n",
        "    self.__datos=[]\n",
        "  def is_empty(self):\n",
        "    return len(self.__datos)==0\n",
        "  def get_top(self):\n",
        "    return self.__datos[-1]\n",
        "  def pop(self):\n",
        "    return self.__datos.pop()\n",
        "  def push(self,valor):\n",
        "    self.__datos.append(valor)\n",
        "  def get_length(self):\n",
        "    return len(self.__datos)\n",
        "  def to_string(self):\n",
        "    print(\"----------------\")\n",
        "    for i in self.__datos[-1::-1]:\n",
        "      print(i)\n",
        "    print(\"----------------\")\n",
        "    print()\n",
        "\n",
        "\n",
        "def medio(pila,m,i,a):\n",
        "    bandera=0\n",
        "    if m>i:\n",
        "        a=pila.pop()\n",
        "        i+=1\n",
        "        medio(pila,m,i,a)\n",
        "    if m==i:\n",
        "        pila.pop()\n",
        "    pila.push(a)\n",
        "\n",
        "pila=Stack()\n",
        "pila.push(0)\n",
        "pila.push(1)\n",
        "pila.push(3)\n",
        "pila.push(5)\n",
        "pila.push(25)\n",
        "pila.push(30)\n",
        "pila.push(35)\n",
        "pila.push(40)\n",
        "pila.push(45)\n",
        "pila.push(50)\n",
        "\n",
        "print(\"Elementos de la pila: \")\n",
        "\n",
        "m=pila.get_length()//2\n",
        "pila.to_string()\n",
        "medio(pila,m,0,0)\n",
        "print(\"Pila sin punto medio: \")\n",
        "pila.to_string()"
      ],
      "execution_count": null,
      "outputs": []
    }
  ]
}