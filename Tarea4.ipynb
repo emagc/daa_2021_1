{
  "nbformat": 4,
  "nbformat_minor": 0,
  "metadata": {
    "colab": {
      "name": "Tarea4.ipynb",
      "provenance": [],
      "collapsed_sections": [],
      "authorship_tag": "ABX9TyO+NQhbR3ZOQPC2RSt1zNjo",
      "include_colab_link": true
    },
    "kernelspec": {
      "name": "python3",
      "display_name": "Python 3"
    }
  },
  "cells": [
    {
      "cell_type": "markdown",
      "metadata": {
        "id": "view-in-github",
        "colab_type": "text"
      },
      "source": [
        "<a href=\"https://colab.research.google.com/github/emagc/daa_2021_1/blob/master/Tarea4.ipynb\" target=\"_parent\"><img src=\"https://colab.research.google.com/assets/colab-badge.svg\" alt=\"Open In Colab\"/></a>"
      ]
    },
    {
      "cell_type": "code",
      "metadata": {
        "id": "AvcEoxQNcWto",
        "outputId": "9f0d53be-2e20-4ebe-e45c-58f733440891",
        "colab": {
          "base_uri": "https://localhost:8080/",
          "height": 119
        }
      },
      "source": [
        "def ejemplo4( n ):\n",
        "  count = 0\n",
        "  i = n\n",
        "  print(\"nivel 1\")\n",
        "  while i>=1:\n",
        "    count += 1\n",
        "    i = i // 2\n",
        "    print(\"nivel 2\")\n",
        "  basura = 2 + 3\n",
        "  return count\n",
        "\n",
        "\n",
        "print(ejemplo4( 10 ))\n",
        "  "
      ],
      "execution_count": 8,
      "outputs": [
        {
          "output_type": "stream",
          "text": [
            "nivel 1\n",
            "nivel 2\n",
            "nivel 2\n",
            "nivel 2\n",
            "nivel 2\n",
            "4\n"
          ],
          "name": "stdout"
        }
      ]
    }
  ]
}