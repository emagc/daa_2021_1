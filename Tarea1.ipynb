{
  "nbformat": 4,
  "nbformat_minor": 0,
  "metadata": {
    "colab": {
      "name": "Tarea1.ipynb",
      "provenance": [],
      "authorship_tag": "ABX9TyO1r0SbN3Z0zuem2TTajDWL",
      "include_colab_link": true
    },
    "kernelspec": {
      "name": "python3",
      "display_name": "Python 3"
    }
  },
  "cells": [
    {
      "cell_type": "markdown",
      "metadata": {
        "id": "view-in-github",
        "colab_type": "text"
      },
      "source": [
        "<a href=\"https://colab.research.google.com/github/emagc/daa_2021_1/blob/master/Tarea1.ipynb\" target=\"_parent\"><img src=\"https://colab.research.google.com/assets/colab-badge.svg\" alt=\"Open In Colab\"/></a>"
      ]
    },
    {
      "cell_type": "code",
      "metadata": {
        "id": "1PYsgWnGV5To",
        "outputId": "b20d8196-3e0a-40c8-e736-4fa6aee3ecb0",
        "colab": {
          "base_uri": "https://localhost:8080/",
          "height": 51
        }
      },
      "source": [
        "lista = [23, 55, 37, 91, 68]\n",
        "num = int(input(\" Escribe dos digitos: \"))\n",
        "for i in range(len(lista)):\n",
        "    actual_ind = lista[i]\n",
        "    indice = i\n",
        "\n",
        "if num == actual_ind:\n",
        "       print(f\"El numero coincide con el miembro {indice}\")\n",
        "else:\n",
        "       print(f\"El numero no coincide con el miembro {indice}\")"
      ],
      "execution_count": 7,
      "outputs": [
        {
          "output_type": "stream",
          "text": [
            " Escribe dos digitos: 22\n",
            "El numero no coincide con el miehbro 4\n"
          ],
          "name": "stdout"
        }
      ]
    },
    {
      "cell_type": "code",
      "metadata": {
        "id": "JidI3qxRXHvf",
        "outputId": "102391b6-af82-41ce-e3d4-01bdd4b8cb79",
        "colab": {
          "base_uri": "https://localhost:8080/",
          "height": 34
        }
      },
      "source": [
        "lista = [4, 8, 2, 1, 9, 6, 5]\n",
        "\n",
        "for i in range(1, len(lista)):\n",
        "  actual_ind = lista[i]\n",
        "  indice = i\n",
        "\n",
        "while indice > 0 and lista[indice -1] > actual_ind:\n",
        "\n",
        "  lista[indice] = lista[indice -1]\n",
        "  indice = indice -1\n",
        "  \n",
        "lista[indice] = actual_ind\n",
        "\n",
        "print(lista)"
      ],
      "execution_count": 2,
      "outputs": [
        {
          "output_type": "stream",
          "text": [
            "[4, 8, 2, 1, 5, 9, 6]\n"
          ],
          "name": "stdout"
        }
      ]
    }
  ]
}