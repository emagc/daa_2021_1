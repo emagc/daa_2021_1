{
  "nbformat": 4,
  "nbformat_minor": 0,
  "metadata": {
    "colab": {
      "name": "19OctubreCorregido.ipynb",
      "provenance": [],
      "authorship_tag": "ABX9TyMbzav1gGL7FeFiyZz/LXK3",
      "include_colab_link": true
    },
    "kernelspec": {
      "name": "python3",
      "display_name": "Python 3"
    }
  },
  "cells": [
    {
      "cell_type": "markdown",
      "metadata": {
        "id": "view-in-github",
        "colab_type": "text"
      },
      "source": [
        "<a href=\"https://colab.research.google.com/github/emagc/daa_2021_1/blob/master/19OctubreCorregido.ipynb\" target=\"_parent\"><img src=\"https://colab.research.google.com/assets/colab-badge.svg\" alt=\"Open In Colab\"/></a>"
      ]
    },
    {
      "cell_type": "code",
      "metadata": {
        "id": "R1S46NWhK8_W",
        "outputId": "0e9e0c7f-4a48-40ba-a664-d72cfb416ee7",
        "colab": {
          "base_uri": "https://localhost:8080/",
          "height": 255
        }
      },
      "source": [
        "a2d = [[3,2,1],[6,4,8],[7,4,2]]\n",
        " \n",
        "\n",
        "total = 0\n",
        "print(\"nivel 1\")\n",
        "for ren in range( len(a2d) ):\n",
        "  suma_renglon = 0\n",
        "  print(\"nivel 2\")\n",
        "  for col in range( len(a2d) ):\n",
        "    suma_renglon += a2d[ren][col]\n",
        "    total += a2d[ren][col]\n",
        "    print(\"nivel 3\")\n",
        "\n",
        "print(total)"
      ],
      "execution_count": 1,
      "outputs": [
        {
          "output_type": "stream",
          "text": [
            "nivel 1\n",
            "nivel 2\n",
            "nivel 3\n",
            "nivel 3\n",
            "nivel 3\n",
            "nivel 2\n",
            "nivel 3\n",
            "nivel 3\n",
            "nivel 3\n",
            "nivel 2\n",
            "nivel 3\n",
            "nivel 3\n",
            "nivel 3\n",
            "37\n"
          ],
          "name": "stdout"
        }
      ]
    }
  ]
}