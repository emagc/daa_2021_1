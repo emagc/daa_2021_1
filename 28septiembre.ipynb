{
  "nbformat": 4,
  "nbformat_minor": 0,
  "metadata": {
    "colab": {
      "name": "28septiembre.ipynb",
      "provenance": [],
      "authorship_tag": "ABX9TyNEFoUi7S5dCRLCtdKJ+PKV",
      "include_colab_link": true
    },
    "kernelspec": {
      "name": "python3",
      "display_name": "Python 3"
    }
  },
  "cells": [
    {
      "cell_type": "markdown",
      "metadata": {
        "id": "view-in-github",
        "colab_type": "text"
      },
      "source": [
        "<a href=\"https://colab.research.google.com/github/emagc/daa_2021_1/blob/master/28septiembre.ipynb\" target=\"_parent\"><img src=\"https://colab.research.google.com/assets/colab-badge.svg\" alt=\"Open In Colab\"/></a>"
      ]
    },
    {
      "cell_type": "code",
      "metadata": {
        "id": "VEEZrgatBjy_"
      },
      "source": [
        ""
      ],
      "execution_count": null,
      "outputs": []
    },
    {
      "cell_type": "markdown",
      "metadata": {
        "id": "gWr3m1_nDC6j"
      },
      "source": [
        "# Sección 1\n",
        " "
      ]
    },
    {
      "cell_type": "markdown",
      "metadata": {
        "id": "I6nc0-uRIHs6"
      },
      "source": [
        "# Sección nueva"
      ]
    },
    {
      "cell_type": "markdown",
      "metadata": {
        "id": "6MMGTC_QDehC"
      },
      "source": [
        "En este archivo aprenderemos a programar en Python con la herramienta de Google Colab Research."
      ]
    },
    {
      "cell_type": "markdown",
      "metadata": {
        "id": "V9oOLNvbEFDy"
      },
      "source": [
        "## Codigo de Ejemplo \n",
        "\n",
        "**negritas**\n",
        "_italica_\n",
        "\n",
        "`\n",
        "edad = 10 print(edad)\n",
        "`"
      ]
    },
    {
      "cell_type": "code",
      "metadata": {
        "id": "vH5nHSGBIKy_"
      },
      "source": [
        ""
      ],
      "execution_count": null,
      "outputs": []
    },
    {
      "cell_type": "code",
      "metadata": {
        "id": "_digQshMGfiH",
        "outputId": "5a963d71-08bb-4859-baf9-598cc74969c6",
        "colab": {
          "base_uri": "https://localhost:8080/",
          "height": 34
        }
      },
      "source": [
        "frutas = []\n",
        "frutas.append('Manzana')\n",
        "frutas.append('Piña')\n",
        "frutas.append('kiwi')\n",
        "print(frutas)"
      ],
      "execution_count": 1,
      "outputs": [
        {
          "output_type": "stream",
          "text": [
            "['Manzana', 'Piña', 'kiwi']\n"
          ],
          "name": "stdout"
        }
      ]
    },
    {
      "cell_type": "code",
      "metadata": {
        "id": "sIZn9uOjHrzo"
      },
      "source": [
        "archivo = open('prueba_daa.txt','wt')\n",
        "archivo.write(\"Hola mundo Jupyter\")\n",
        "archivo.close()"
      ],
      "execution_count": 2,
      "outputs": []
    }
  ]
}