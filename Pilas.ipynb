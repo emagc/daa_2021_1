{
  "nbformat": 4,
  "nbformat_minor": 0,
  "metadata": {
    "colab": {
      "name": "Pilas.ipynb",
      "provenance": [],
      "collapsed_sections": [],
      "authorship_tag": "ABX9TyOPtrvO21lhW6GN8Jie4LKj",
      "include_colab_link": true
    },
    "kernelspec": {
      "name": "python3",
      "display_name": "Python 3"
    }
  },
  "cells": [
    {
      "cell_type": "markdown",
      "metadata": {
        "id": "view-in-github",
        "colab_type": "text"
      },
      "source": [
        "<a href=\"https://colab.research.google.com/github/emagc/daa_2021_1/blob/master/Pilas.ipynb\" target=\"_parent\"><img src=\"https://colab.research.google.com/assets/colab-badge.svg\" alt=\"Open In Colab\"/></a>"
      ]
    },
    {
      "cell_type": "code",
      "metadata": {
        "id": "HtA0fvqZStpX"
      },
      "source": [
        "class Stack:\n",
        "  def __init__(self):\n",
        "    self._datos=[]\n",
        "\n",
        "  def is_empty( self ):\n",
        "    return len(self._datos) == 0\n",
        "\n",
        "  def get_top(self):\n",
        "    return self._datos[-1]\n",
        "\n",
        "  def pop(self):\n",
        "    return self._datos.pop()\n",
        "\n",
        "  def push (self, valor):\n",
        "    self._datos.append(valor)\n",
        "\n",
        "  def get_length(self):\n",
        "    return len(self._datos)\n",
        "\n",
        "  def to_string(self):\n",
        "    print(\"---------------\")\n",
        "    for ele in self._datos[-1::-1]:\n",
        "      print(f\"{ele}\")"
      ],
      "execution_count": null,
      "outputs": []
    },
    {
      "cell_type": "code",
      "metadata": {
        "id": "2VpsvOxCS-8t",
        "outputId": "aa3f1eeb-4d74-423b-d39f-cc6493fa01ef",
        "colab": {
          "base_uri": "https://localhost:8080/"
        }
      },
      "source": [
        "pila=Stack()\n",
        "cadena = ()\n",
        "for i in range(0,len(cadena)):\n",
        "  if cadena[i]=='(':\n",
        "    pila.push(cadena[i])\n",
        "  if cadena[i]=='[':\n",
        "    pila.push(cadena[i])\n",
        "  if cadena[i]=='{':\n",
        "    pila.push(cadena[i])\n",
        "  if cadena[i]==')' and pila.get_top()=='(':\n",
        "    pila.pop()\n",
        "  elif cadena[i]==')' and pila.get_top()!='(':\n",
        "    print(f\"No esta balanceada\")\n",
        "    cadena=\"\"\n",
        "    break\n",
        "\n",
        "  if cadena[i]==']' and pila.get_top()=='[':\n",
        "    pila.pop()\n",
        "  elif cadena[i]=='[' and pila.get_top()!='[':\n",
        "    print(f\"No esta balanceada\")\n",
        "    cadena=\"\"\n",
        "    break\n",
        "\n",
        "  if cadena[i]=='}' and pila.get_top()=='{':\n",
        "    pila.pop()\n",
        "  elif cadena[i]=='}' and pila.get_top()!='{':\n",
        "    print(f\"No esta balanceada\")\n",
        "    cadena=\"\"\n",
        "    break\n",
        "\n",
        "if pila.is_empty() and cadena!=\"\":\n",
        "  print(\"Balanceado\")"
      ],
      "execution_count": 6,
      "outputs": [
        {
          "output_type": "stream",
          "text": [
            "Balanceado\n"
          ],
          "name": "stdout"
        }
      ]
    }
  ]
}