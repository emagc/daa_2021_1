{
  "nbformat": 4,
  "nbformat_minor": 0,
  "metadata": {
    "colab": {
      "name": "Pilas.ipynb",
      "provenance": [],
      "collapsed_sections": [],
      "authorship_tag": "ABX9TyMnyvH7udcZepdeL8CVT70s",
      "include_colab_link": true
    },
    "kernelspec": {
      "name": "python3",
      "display_name": "Python 3"
    }
  },
  "cells": [
    {
      "cell_type": "markdown",
      "metadata": {
        "id": "view-in-github",
        "colab_type": "text"
      },
      "source": [
        "<a href=\"https://colab.research.google.com/github/emagc/daa_2021_1/blob/master/Pilas.ipynb\" target=\"_parent\"><img src=\"https://colab.research.google.com/assets/colab-badge.svg\" alt=\"Open In Colab\"/></a>"
      ]
    },
    {
      "cell_type": "code",
      "metadata": {
        "id": "HtA0fvqZStpX"
      },
      "source": [
        "class Stack:\n",
        "  def __init__(self):\n",
        "    self._datos=[]\n",
        "\n",
        "  def is_empty( self ):\n",
        "    return len(self._datos) == 0\n",
        "\n",
        "  def get_top(self):\n",
        "    return self._datos[-1]\n",
        "\n",
        "  def pop(self):\n",
        "    return self._datos.pop()\n",
        "\n",
        "  def push (self, valor):\n",
        "    self._datos.append(valor)\n",
        "\n",
        "  def get_length(self):\n",
        "    return len(self._datos)\n",
        "\n",
        "  def to_string(self):\n",
        "    print(\"---------------\")\n",
        "    for ele in self._datos[-1::-1]:\n",
        "      print(f\"{ele}\")"
      ],
      "execution_count": 1,
      "outputs": []
    },
    {
      "cell_type": "code",
      "metadata": {
        "id": "2VpsvOxCS-8t",
        "outputId": "a03a3652-7345-4d51-a37a-f8a3039c602d",
        "colab": {
          "base_uri": "https://localhost:8080/"
        }
      },
      "source": [
        "pila=Stack()\n",
        "cadena = \"if (turno.equals(\\\"\\\")() && matriz[1][0].equals(\\\"\\\")) {selOp(j4, \\\"\\\", this.usuario);if (espacioEnMatriz > 0) }\"\n",
        "for i in range(0,len(cadena)):\n",
        "  if cadena[i]=='(':\n",
        "    pila.push(cadena[i])\n",
        "  if cadena[i]=='[':\n",
        "    pila.push(cadena[i])\n",
        "  if cadena[i]=='{':\n",
        "    pila.push(cadena[i])\n",
        "  if cadena[i]==')' and pila.get_top()=='(':\n",
        "    pila.pop()\n",
        "  elif cadena[i]==')' and pila.get_top()!='(':\n",
        "    print(f\"La pila no esta balanceada\")\n",
        "    cadena=\"\"\n",
        "    break\n",
        "\n",
        "  if cadena[i]==']' and pila.get_top()=='[':\n",
        "    pila.pop()\n",
        "  elif cadena[i]=='[' and pila.get_top()!='[':\n",
        "    print(f\"La pila no esta balanceada\")\n",
        "    cadena=\"\"\n",
        "    break\n",
        "\n",
        "  if cadena[i]=='}' and pila.get_top()=='{':\n",
        "    pila.pop()\n",
        "  elif cadena[i]=='}' and pila.get_top()!='{':\n",
        "    print(f\"La pila no esta balanceada\")\n",
        "    cadena=\"\"\n",
        "    break\n",
        "\n",
        "if pila.is_empty() and cadena!=\"\":\n",
        "  print(\"balanceado\")"
      ],
      "execution_count": 4,
      "outputs": [
        {
          "output_type": "stream",
          "text": [
            "balanceado\n"
          ],
          "name": "stdout"
        }
      ]
    }
  ]
}