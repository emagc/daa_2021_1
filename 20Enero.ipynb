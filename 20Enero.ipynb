{
  "nbformat": 4,
  "nbformat_minor": 0,
  "metadata": {
    "colab": {
      "name": "20Enero.ipynb",
      "provenance": [],
      "collapsed_sections": [],
      "authorship_tag": "ABX9TyMoX2lCmpYZSMcYCgWOteBL",
      "include_colab_link": true
    },
    "kernelspec": {
      "name": "python3",
      "display_name": "Python 3"
    }
  },
  "cells": [
    {
      "cell_type": "markdown",
      "metadata": {
        "id": "view-in-github",
        "colab_type": "text"
      },
      "source": [
        "<a href=\"https://colab.research.google.com/github/emagc/daa_2021_1/blob/master/20Enero.ipynb\" target=\"_parent\"><img src=\"https://colab.research.google.com/assets/colab-badge.svg\" alt=\"Open In Colab\"/></a>"
      ]
    },
    {
      "cell_type": "code",
      "metadata": {
        "id": "m2bMkH6JS29E"
      },
      "source": [
        "class NodoArbol:\r\n",
        "  def _init_(self, value, left=None, right=None):\r\n",
        "    self.data=value\r\n",
        "    self.left=left\r\n",
        "    self.right=right"
      ],
      "execution_count": null,
      "outputs": []
    },
    {
      "cell_type": "code",
      "metadata": {
        "id": "tHnZ_smuTAdL"
      },
      "source": [
        "class BinarySearchTree:\r\n",
        "  def _init_(self):\r\n",
        "    self._root=None\r\n",
        "\r\n",
        "  def insert(self, value):\r\n",
        "    if self._root==None:\r\n",
        "      self.root=NodoArbol(value)\r\n",
        "    else:\r\n",
        "      self_insert_nodo_(self._root, value)\r\n",
        "  \r\n",
        "\r\n",
        "  def __insert_nodo(self, nodo, value):\r\n",
        "    if nodo.data==value:\r\n",
        "      pass\r\n",
        "    elif value<nodo.data:\r\n",
        "      if nodo.left==None:\r\n",
        "        nodo.left=NodoArbol(value)\r\n",
        "      else:\r\n",
        "        self.__insert_nodo(nodo.left,value)\r\n",
        "    else:\r\n",
        "      if nodo.right==None:\r\n",
        "        nodo.left=NodoArbol(value)\r\n",
        "      else:\r\n",
        "        self.__insert_nodo(nodo.right,value)"
      ],
      "execution_count": null,
      "outputs": []
    },
    {
      "cell_type": "code",
      "metadata": {
        "id": "lwCX_-VZTDD1"
      },
      "source": [
        "bst=BinarySearchTree()\r\n",
        "bst.insert(50)\r\n",
        "bst.insert(30)\r\n",
        "bst.insert(20)\r\n",
        "bst.search(30) #true o false ?"
      ],
      "execution_count": null,
      "outputs": []
    },
    {
      "cell_type": "code",
      "metadata": {
        "id": "pOphA5gTTLnx"
      },
      "source": [
        "bst=BinarySearchTree()\r\n",
        "bst.insert(50)\r\n",
        "bst.insert(30)\r\n",
        "bst.insert(20)\r\n",
        "res=bst.buscar(30)\r\n",
        "print(\"Dato: \" +str(res))\r\n",
        "print(\"recorrido\")\r\n",
        "bst.transversal()"
      ],
      "execution_count": null,
      "outputs": []
    }
  ]
}