{
  "nbformat": 4,
  "nbformat_minor": 0,
  "metadata": {
    "colab": {
      "name": "5Octubre.ipynb",
      "provenance": [],
      "collapsed_sections": [],
      "authorship_tag": "ABX9TyMfplxP8tVyFFTjc5segDTJ",
      "include_colab_link": true
    },
    "kernelspec": {
      "name": "python3",
      "display_name": "Python 3"
    }
  },
  "cells": [
    {
      "cell_type": "markdown",
      "metadata": {
        "id": "view-in-github",
        "colab_type": "text"
      },
      "source": [
        "<a href=\"https://colab.research.google.com/github/emagc/daa_2021_1/blob/master/5__Octubre.ipynb\" target=\"_parent\"><img src=\"https://colab.research.google.com/assets/colab-badge.svg\" alt=\"Open In Colab\"/></a>"
      ]
    },
    {
      "cell_type": "markdown",
      "metadata": {
        "id": "GyEEQnJ6CeEB"
      },
      "source": [
        "# Estructura de datos pila (stack)\n",
        "- last in, first out\n",
        "- De tipo lineal\n",
        "- se pueden obtener e ingresar datos desde el topoe\n",
        "- push para agregar \n",
        "- pop para sacar \n",
        "\n",
        "## Operaciones de las pilas\n",
        "1. is_empty (regresa un true o false)\n",
        "2. get_top (regresa el elemento en el tope, sin sacarlo)\n",
        "3. pop (saca el elemento del tope y lo muestra)\n",
        "4. push (mete un elemento en el tope)\n",
        "5. get_length (regresa el numero de elementos de la pila)\n",
        "\n"
      ]
    },
    {
      "cell_type": "code",
      "metadata": {
        "id": "iy6Hh61VCawy"
      },
      "source": [
        "class Stack:\n",
        "  def __init__(self):\n",
        "    self._datos=[]\n",
        "\n",
        "  def is_empty( self ):\n",
        "    return len(self._datos) == 0\n",
        "\n",
        "  def get_top(self):\n",
        "    return self._datos[-1]\n",
        "\n",
        "  def pop(self):\n",
        "    return self._datos.pop()\n",
        "\n",
        "  def push (self, valor):\n",
        "    self._datos.append(valor)\n",
        "\n",
        "  def get_length(self):\n",
        "    return len(self._datos)\n",
        "\n",
        "  def to_string(self):\n",
        "    print(\"---------------\")\n",
        "    for ele in self._datos[-1::-1]:\n",
        "      print(f\"{ele}\")"
      ],
      "execution_count": 47,
      "outputs": []
    },
    {
      "cell_type": "code",
      "metadata": {
        "id": "KFM8gFE5Eu7U",
        "outputId": "3e69c7c3-4897-4463-eb9f-86414625130b",
        "colab": {
          "base_uri": "https://localhost:8080/",
          "height": 510
        }
      },
      "source": [
        "pila1 = Stack()\n",
        "pila1.push(15)\n",
        "pila1.push(16)\n",
        "pila1.push(13)\n",
        "pila1.push(12)\n",
        "pila1.push(113)\n",
        "pila1.to_string()\n",
        "\n",
        "sacado = pila1.pop()\n",
        "print(sacado)\n",
        "pila1.to_string()\n",
        "\n",
        "pila1.push(444)\n",
        "pila1.push(233)\n",
        "pila1.to_string()\n",
        "\n",
        "print(f\"El elemento en el tope es :{ pila1.get_top() } \")\n",
        "pila1.to_string()\n",
        "print(f\"La pila tiene {pila1.get_length()} elementos\")\n",
        "print(f\"La pila esta vacia?:  {pila1.is_empty()} \")"
      ],
      "execution_count": 48,
      "outputs": [
        {
          "output_type": "stream",
          "text": [
            "---------------\n",
            "113\n",
            "12\n",
            "13\n",
            "16\n",
            "15\n",
            "113\n",
            "---------------\n",
            "12\n",
            "13\n",
            "16\n",
            "15\n",
            "---------------\n",
            "233\n",
            "444\n",
            "12\n",
            "13\n",
            "16\n",
            "15\n",
            "El elemento en el tope es :233 \n",
            "---------------\n",
            "233\n",
            "444\n",
            "12\n",
            "13\n",
            "16\n",
            "15\n",
            "La pila tiene 6 elementos\n",
            "La pila esta vacia?:  False \n"
          ],
          "name": "stdout"
        }
      ]
    },
    {
      "cell_type": "markdown",
      "metadata": {
        "id": "7KaqE4hYIyXR"
      },
      "source": [
        "# Ejemplo de apliación de pilas\n",
        "\n",
        "4 + 5 + 6\n",
        "\n",
        "4 + (5 + 6)\n",
        "\n",
        "if (a==b) {System.out.println(b)\n",
        "\n",
        "if (a==b) {System.out.println(b} \n",
        "\n",
        "#Reglas\n",
        "\n",
        "### '(' -----> push('@')\n",
        "### ')' -----> pop ()\n",
        "\n",
        "Si al final del recorrido la pila esta vacia, entonces la cadenas es correcta. \n",
        "Si en un pop desencadena en querer sacar un elemento de lapila vacia, significa que la cadena no esta balanceada.\n",
        "\n"
      ]
    },
    {
      "cell_type": "markdown",
      "metadata": {
        "id": "ktnuTt82NJPn"
      },
      "source": [
        "#Tarea\n",
        "\n",
        "Hacer un programa que valide el balanceo de '()' , '[]' y '{}' en programa del lenguaje C y Java."
      ]
    }
  ]
}