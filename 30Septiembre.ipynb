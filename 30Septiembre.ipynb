{
  "nbformat": 4,
  "nbformat_minor": 0,
  "metadata": {
    "colab": {
      "name": "30Septiembre.ipynb",
      "provenance": [],
      "authorship_tag": "ABX9TyNsXnOu2dvO5fZw7MovVcYb",
      "include_colab_link": true
    },
    "kernelspec": {
      "name": "python3",
      "display_name": "Python 3"
    }
  },
  "cells": [
    {
      "cell_type": "markdown",
      "metadata": {
        "id": "view-in-github",
        "colab_type": "text"
      },
      "source": [
        "<a href=\"https://colab.research.google.com/github/emagc/daa_2021_1/blob/master/30Septiembre.ipynb\" target=\"_parent\"><img src=\"https://colab.research.google.com/assets/colab-badge.svg\" alt=\"Open In Colab\"/></a>"
      ]
    },
    {
      "cell_type": "markdown",
      "metadata": {
        "id": "nk5cBCeFQKlJ"
      },
      "source": [
        "##Palindromos\n",
        "\n",
        "Es una palabra que se lee de igual forma en un sentido y de sentido inverso ejemplo:\n",
        "\n",
        "1. sugus\n",
        "1. oso\n",
        "1. reconocer\n",
        "1. 1010\n",
        "1. 10:01\n",
        "etc.\n",
        "\n",
        "##Planteamiento de problemas:\n",
        "\n",
        "Se desea encontrar todos los palindromos que existen en la franja horaria en un día completo, tomando como horario inicial las 00:00 y como el horario final a las 23:59.\n",
        "\n",
        "El algoritmo debe mostrar en pantalla todos los palindromos existentes en ese rango, al final debe mostrar el conteo total de palindromos existentes.\n"
      ]
    },
    {
      "cell_type": "code",
      "metadata": {
        "id": "bmuelT3zP_Rn",
        "outputId": "8fde8db1-1318-4758-aef0-fb06bfcc0e2f",
        "colab": {
          "base_uri": "https://localhost:8080/",
          "height": 425
        }
      },
      "source": [
        "horas = \"0000\"\n",
        "while horas!= \"2359\":\n",
        "  inv = horas[::-1]\n",
        "  if horas==inv:\n",
        "    print(horas)\n",
        "  new = int(horas)\n",
        "  new+=1\n",
        "  horas = str(new).zfill(4) "
      ],
      "execution_count": 17,
      "outputs": [
        {
          "output_type": "stream",
          "text": [
            "0000\n",
            "0110\n",
            "0220\n",
            "0330\n",
            "0440\n",
            "0550\n",
            "0660\n",
            "0770\n",
            "0880\n",
            "0990\n",
            "1001\n",
            "1111\n",
            "1221\n",
            "1331\n",
            "1441\n",
            "1551\n",
            "1661\n",
            "1771\n",
            "1881\n",
            "1991\n",
            "2002\n",
            "2112\n",
            "2222\n",
            "2332\n"
          ],
          "name": "stdout"
        }
      ]
    }
  ]
}