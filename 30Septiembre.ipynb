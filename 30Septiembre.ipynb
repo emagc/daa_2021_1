{
  "nbformat": 4,
  "nbformat_minor": 0,
  "metadata": {
    "colab": {
      "name": "30Septiembre.ipynb",
      "provenance": [],
      "authorship_tag": "ABX9TyPA+ma1IfSTztLVz46uOhOy",
      "include_colab_link": true
    },
    "kernelspec": {
      "name": "python3",
      "display_name": "Python 3"
    }
  },
  "cells": [
    {
      "cell_type": "markdown",
      "metadata": {
        "id": "view-in-github",
        "colab_type": "text"
      },
      "source": [
        "<a href=\"https://colab.research.google.com/github/emagc/daa_2021_1/blob/master/30Septiembre.ipynb\" target=\"_parent\"><img src=\"https://colab.research.google.com/assets/colab-badge.svg\" alt=\"Open In Colab\"/></a>"
      ]
    },
    {
      "cell_type": "code",
      "metadata": {
        "id": "Hyi5-dECg4uT",
        "outputId": "ae196a7f-80de-4b0c-a718-3c505371d044",
        "colab": {
          "base_uri": "https://localhost:8080/",
          "height": 306
        }
      },
      "source": [
        "hora=\"0000\"\n",
        "contador=0\n",
        "while hora!=\"2359\":\n",
        "\n",
        "  inv=hora[::-1]\n",
        "  if hora==inv and int(hora[2])<=5:\n",
        "    contador+=1\n",
        "    print(hora[0:2],\":\",hora[2:4])\n",
        "  new=int(hora)\n",
        "  new+=1\n",
        "  hora=str(new).zfill(4)\n",
        "print(\"son \",contador,\"palindromos\")"
      ],
      "execution_count": 1,
      "outputs": [
        {
          "output_type": "stream",
          "text": [
            "00 : 00\n",
            "01 : 10\n",
            "02 : 20\n",
            "03 : 30\n",
            "04 : 40\n",
            "05 : 50\n",
            "10 : 01\n",
            "11 : 11\n",
            "12 : 21\n",
            "13 : 31\n",
            "14 : 41\n",
            "15 : 51\n",
            "20 : 02\n",
            "21 : 12\n",
            "22 : 22\n",
            "23 : 32\n",
            "son  16 palindromos\n"
          ],
          "name": "stdout"
        }
      ]
    }
  ]
}