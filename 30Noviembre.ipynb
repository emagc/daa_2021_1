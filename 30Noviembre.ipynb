{
  "nbformat": 4,
  "nbformat_minor": 0,
  "metadata": {
    "colab": {
      "name": "30Noviembre.ipynb",
      "provenance": [],
      "authorship_tag": "ABX9TyN8iVloqHiE9iLr76wqxr2q",
      "include_colab_link": true
    },
    "kernelspec": {
      "name": "python3",
      "display_name": "Python 3"
    }
  },
  "cells": [
    {
      "cell_type": "markdown",
      "metadata": {
        "id": "view-in-github",
        "colab_type": "text"
      },
      "source": [
        "<a href=\"https://colab.research.google.com/github/emagc/daa_2021_1/blob/master/30Noviembre.ipynb\" target=\"_parent\"><img src=\"https://colab.research.google.com/assets/colab-badge.svg\" alt=\"Open In Colab\"/></a>"
      ]
    },
    {
      "cell_type": "code",
      "metadata": {
        "colab": {
          "base_uri": "https://localhost:8080/"
        },
        "id": "PDND9l-nAbp6",
        "outputId": "a52d66af-2b3a-468e-aad4-26be44f4b073"
      },
      "source": [
        "\n",
        "A = \"AELASESLALSALSALSALSALSALASLSLSLSLSALALALALASALSALLSALAS\"\n",
        "P = \"LAS\"\n",
        "N=len(A)\n",
        "M=len(P)\n",
        "def fuerza_bruta (A,P):\n",
        "  for i in range (N-M+1):\n",
        "    for j in range (M):\n",
        "      if A[i+j] != P[j]:\n",
        "        break\n",
        "      else:\n",
        "        pass\n",
        "    if j+1==M and A[i+j]==P[j]:\n",
        "      print(\"Encontrado en la posiocion:\",i)\n",
        "fuerza_bruta(A,P)"
      ],
      "execution_count": 2,
      "outputs": [
        {
          "output_type": "stream",
          "text": [
            "Encontrado en la posiocion: 2\n",
            "Encontrado en la posiocion: 24\n",
            "Encontrado en la posiocion: 42\n",
            "Encontrado en la posiocion: 53\n"
          ],
          "name": "stdout"
        }
      ]
    }
  ]
}