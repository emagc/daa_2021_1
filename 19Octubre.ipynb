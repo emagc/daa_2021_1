{
  "nbformat": 4,
  "nbformat_minor": 0,
  "metadata": {
    "colab": {
      "name": "19Octubre.ipynb",
      "provenance": [],
      "authorship_tag": "ABX9TyNrKEMPpsUxmbC6vces8YeQ",
      "include_colab_link": true
    },
    "kernelspec": {
      "name": "python3",
      "display_name": "Python 3"
    }
  },
  "cells": [
    {
      "cell_type": "markdown",
      "metadata": {
        "id": "view-in-github",
        "colab_type": "text"
      },
      "source": [
        "<a href=\"https://colab.research.google.com/github/emagc/daa_2021_1/blob/master/19Octubre.ipynb\" target=\"_parent\"><img src=\"https://colab.research.google.com/assets/colab-badge.svg\" alt=\"Open In Colab\"/></a>"
      ]
    },
    {
      "cell_type": "code",
      "metadata": {
        "id": "JPWY8gPiMvmg",
        "outputId": "273cddbc-c44e-4463-855b-c5c4aacecce0",
        "colab": {
          "base_uri": "https://localhost:8080/",
          "height": 34
        }
      },
      "source": [
        "a2d = [[3,2,1],[6,4,8],[7,4,2]]\n",
        "print (a2d)\n",
        "\n",
        "total = 0 #1\n",
        "print(\"nivel 1\")\n",
        "for ren in range(n):\n",
        "    sumaRenglon = 0\n",
        "    print(\"nivel 2\")\n",
        "    for col in range( n ):\n",
        "        sumaRenglon += a2d[ren][col]\n",
        "        total += a2d[ren][col]\n",
        "        print(\"nivel 3\")\n",
        "print(total)    \n",
        "  \n",
        "\n",
        "      "
      ],
      "execution_count": 1,
      "outputs": [
        {
          "output_type": "stream",
          "text": [
            "[[3, 2, 1], [6, 4, 8], [7, 4, 2]]\n"
          ],
          "name": "stdout"
        }
      ]
    }
  ]
}