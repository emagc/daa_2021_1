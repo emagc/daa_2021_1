{
  "nbformat": 4,
  "nbformat_minor": 0,
  "metadata": {
    "colab": {
      "name": "Tarea10.ipynb",
      "provenance": [],
      "collapsed_sections": [],
      "authorship_tag": "ABX9TyPqQ7abbRXF+IWWRxOQtD1E",
      "include_colab_link": true
    },
    "kernelspec": {
      "name": "python3",
      "display_name": "Python 3"
    }
  },
  "cells": [
    {
      "cell_type": "markdown",
      "metadata": {
        "id": "view-in-github",
        "colab_type": "text"
      },
      "source": [
        "<a href=\"https://colab.research.google.com/github/emagc/daa_2021_1/blob/master/Tarea10.ipynb\" target=\"_parent\"><img src=\"https://colab.research.google.com/assets/colab-badge.svg\" alt=\"Open In Colab\"/></a>"
      ]
    },
    {
      "cell_type": "code",
      "metadata": {
        "id": "JLL22eYCTivO"
      },
      "source": [
        "class NodoArbol:\r\n",
        "  def _init_(self, value, left=None, right=None):\r\n",
        "    self.data=value\r\n",
        "    self.left=left\r\n",
        "    self.right=right"
      ],
      "execution_count": null,
      "outputs": []
    },
    {
      "cell_type": "code",
      "metadata": {
        "id": "LqxpjLG_ToTj"
      },
      "source": [
        "class BinarySearchTree:\r\n",
        "  def _init_(self):\r\n",
        "    self._root=None\r\n",
        "\r\n",
        "  def insert(self, value):\r\n",
        "    if self._root==None:\r\n",
        "      self.root=NodoArbol(value)\r\n",
        "    else:\r\n",
        "      self_insert_nodo_(self._root, value)\r\n",
        "  \r\n",
        "\r\n",
        "  def __insert_nodo(self, nodo, value):\r\n",
        "    if nodo.data==value:\r\n",
        "      pass\r\n",
        "    elif value<nodo.data:\r\n",
        "      if nodo.left==None:\r\n",
        "        nodo.left=NodoArbol(value)\r\n",
        "      else:\r\n",
        "        self.__insert_nodo(nodo.left,value)\r\n",
        "    else:\r\n",
        "      if nodo.right==None:\r\n",
        "        nodo.left=NodoArbol(value)\r\n",
        "      else:\r\n",
        "        self.__insert_nodo(nodo.right,value)"
      ],
      "execution_count": null,
      "outputs": []
    },
    {
      "cell_type": "code",
      "metadata": {
        "id": "PIkczUXOSQLx"
      },
      "source": [
        "nodos=[arbol4]\r\n",
        "posiblesResultados=[]\r\n",
        "\r\n",
        "def arbolRecursividad(arbol):\r\n",
        "  arbol=nodos.pop()\r\n",
        "  if arbol.left!=None:\r\n",
        "    nodos.append(arbol.left)\r\n",
        "  if arbol.right!=None:\r\n",
        "    nodos.append(arbol.right)\r\n",
        "  if arbol.left==None and arbol.right==None:\r\n",
        "    posiblesResultados.append(arbol.data)\r\n",
        "  if len(nodos)==0:\r\n",
        "    return \"terminado\"\r\n",
        "  else:\r\n",
        "    return arbolRecursividad(arbol)\r\n",
        "\r\n",
        "\r\n",
        "arbolRecursividad(arbol4)\r\n",
        "print(posiblesResultados)"
      ],
      "execution_count": 1,
      "outputs": []
    }
  ]
}