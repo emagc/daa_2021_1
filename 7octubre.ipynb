{
  "nbformat": 4,
  "nbformat_minor": 0,
  "metadata": {
    "colab": {
      "name": "7octubre.ipynb",
      "provenance": [],
      "collapsed_sections": [],
      "authorship_tag": "ABX9TyMZoYG78MfOoqsdWOZ12grA",
      "include_colab_link": true
    },
    "kernelspec": {
      "name": "python3",
      "display_name": "Python 3"
    }
  },
  "cells": [
    {
      "cell_type": "markdown",
      "metadata": {
        "id": "view-in-github",
        "colab_type": "text"
      },
      "source": [
        "<a href=\"https://colab.research.google.com/github/emagc/daa_2021_1/blob/master/7octubre.ipynb\" target=\"_parent\"><img src=\"https://colab.research.google.com/assets/colab-badge.svg\" alt=\"Open In Colab\"/></a>"
      ]
    },
    {
      "cell_type": "markdown",
      "metadata": {
        "id": "6Yck_-AkUJVO"
      },
      "source": [
        "## Busqueda lineal\n",
        "dado un conjunto de datos no ordenados, la busqueda de datos desde el inicio al final, moviendose de uno en uno hasta encontrar.\n",
        "\n",
        "##Busqueda binaria\n",
        "funciona sobre un conjuntos de datos lineal ordenado.\n",
        "consiste en dividir el conjunto en mitades y buscar en esa mitad. Si el elemento buscado no esta en la mitad, pregunta si esta el elemento a la derecha o a la izq- Haces la lista igual a la mitad correspondiente y repites el proceso.\n",
        "L=[ 4, 18, 47, 2, 34, 14, 78, 12, 48, 21, 31, 19, 1, 3, 5]\n",
        " \n",
        "DER = longitud(L)-1\n",
        "\n",
        "IZQ = 0\n",
        "\n",
        "MID apuntara a la mitad del segmento de busqueda\n",
        "\n",
        "1. Hacer DER = longitud(L)-1\n",
        "2. Hacer IZQ = 0\n",
        "3. Si IZQ > DER significa que hay un error en los datos\n",
        "4. calcular MID = int ((IZQ + DER)/2)\n",
        "5. mientras L[MID] != buscado hacer\n",
        "6. - preguntar L[MID] > buscado\n",
        "      - hacer der = MID\n",
        "        - hacer IZQ=MID\n",
        "        - preguntar  (Der- IZQ) %2\n",
        "      -MID = (IZQ- DER)/2\n",
        "7. RETURN\n"
      ]
    },
    {
      "cell_type": "code",
      "metadata": {
        "id": "FVrDgyEYUFWw"
      },
      "source": [
        "\"\"\"\n",
        "\n",
        "Busqueda lineal\n",
        "regresa la posición del elemento buscado si se encuentra dentro de la lista.\n",
        "regresa -1 si elemento buscado no existe dentro la lista.\n",
        "\"\"\"\n",
        "\n",
        "def busq_lineal( L, buscado ):\n",
        "      indice = -1\n",
        "      contandor = 0\n",
        "      for idx in range(len(L)):\n",
        "          contador += 0\n",
        "          if L[idx] == buscado:\n",
        "              indice  = idx\n",
        "      print(f\"Numero de comparaciones realizadas= {contador}\")\n",
        "     break\n",
        "\n",
        "      return indice\n",
        "\n",
        "\"\"\"\n",
        "Binario\n",
        "\"\"\"\n",
        " def busqueda_binaria( L, buscado):\n",
        "    IZQ = 0\n",
        "    DER = len(L)-1\n",
        "    MID = int((IZQ + DER) /2)\n",
        "    if len(L) % 2 == 0\n",
        "        MID = ((DER //2))+1\n",
        "    else\n",
        "        MID = DER//2\n",
        "    \n",
        "    while (L[MID] != buscado):\n",
        "      if L[MID] > buscado:\n",
        "        DER = MID\n",
        "      else\n",
        "        IZQ = MID\n",
        "      if (DER -IZQ) % 2==0:\n",
        "          MID = (IZQ+((DER - IZQ)//2))+1\n",
        "      else\n",
        "          MID = IZQ + ((DER - IZQ)//2)\n",
        "\n",
        "    def main():\n",
        "\n",
        "     datos=[ 4, 18, 47, 2, 34, 14, 78, 12, 48, 21, 31, 19, 1, 3, 5]\n",
        "     dato = int(input(\"¿Que valor quieres buscar?: \"))\n",
        "     resultado = busq_lineal( datos, dato)\n",
        "     print(\"Resultado\", resultado)\n",
        "\n",
        "     print(\"Busqeda lineal ordenada\")\n",
        "     datos.sort()\n",
        "     print(datos)\n",
        "     resultado = busq_lineal ( datos, dato)\n",
        "     print(\"Resultado\", resultado)\n",
        "\n",
        "      print(\"busqueda binaria\")\n",
        "\n",
        "      main()\n",
        "\n"
      ],
      "execution_count": 15,
      "outputs": []
    },
    {
      "cell_type": "code",
      "metadata": {
        "id": "ybjKvVa8ehsb"
      },
      "source": [
        ""
      ],
      "execution_count": null,
      "outputs": []
    }
  ]
}